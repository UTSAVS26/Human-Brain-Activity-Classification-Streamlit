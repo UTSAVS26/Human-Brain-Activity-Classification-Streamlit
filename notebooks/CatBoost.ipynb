{
  "metadata": {
    "kernelspec": {
      "language": "python",
      "display_name": "Python 3",
      "name": "python3"
    },
    "language_info": {
      "name": "python",
      "version": "3.10.12",
      "mimetype": "text/x-python",
      "codemirror_mode": {
        "name": "ipython",
        "version": 3
      },
      "pygments_lexer": "ipython3",
      "nbconvert_exporter": "python",
      "file_extension": ".py"
    },
    "kaggle": {
      "accelerator": "nvidiaTeslaT4",
      "dataSources": [
        {
          "sourceId": 59093,
          "databundleVersionId": 7469972,
          "sourceType": "competition"
        },
        {
          "sourceId": 7392733,
          "sourceType": "datasetVersion",
          "datasetId": 4297749
        },
        {
          "sourceId": 7460364,
          "sourceType": "datasetVersion",
          "datasetId": 4342156
        },
        {
          "sourceId": 7470029,
          "sourceType": "datasetVersion",
          "datasetId": 4348549
        },
        {
          "sourceId": 7471171,
          "sourceType": "datasetVersion",
          "datasetId": 4349405
        },
        {
          "sourceId": 7471726,
          "sourceType": "datasetVersion",
          "datasetId": 4349790
        }
      ],
      "dockerImageVersionId": 30636,
      "isInternetEnabled": false,
      "language": "python",
      "sourceType": "notebook",
      "isGpuEnabled": true
    },
    "colab": {
      "name": "Algorithms 2bfb09",
      "provenance": []
    }
  },
  "nbformat_minor": 0,
  "nbformat": 4,
  "cells": [
    {
      "cell_type": "code",
      "source": [
        "import os,gc\n",
        "os.environ[\"CUDA_VISIBLE_DEVICES\"]=\"0,1\"\n",
        "import pandas as pd, numpy as np\n",
        "import matplotlib.pyplot as plt\n",
        "import warnings\n",
        "\n",
        "warnings.filterwarnings('ignore')"
      ],
      "metadata": {
        "execution": {
          "iopub.status.busy": "2024-03-10T09:39:08.588723Z",
          "iopub.execute_input": "2024-03-10T09:39:08.589372Z",
          "iopub.status.idle": "2024-03-10T09:39:08.926018Z",
          "shell.execute_reply.started": "2024-03-10T09:39:08.589342Z",
          "shell.execute_reply": "2024-03-10T09:39:08.925115Z"
        },
        "trusted": true,
        "id": "I5nGm7AFKK-b"
      },
      "execution_count": null,
      "outputs": []
    },
    {
      "cell_type": "code",
      "source": [
        "PATH = '/kaggle/input/hms-harmful-brain-activity-classification/'\n",
        "df = pd.read_csv(PATH + 'train.csv')\n",
        "TARGETS = df.columns[-6:]\n",
        "print('Train shape:', df.shape )\n",
        "print('Targets', list(TARGETS))\n",
        "df.head()"
      ],
      "metadata": {
        "_uuid": "8f2839f25d086af736a60e9eeb907d3b93b6e0e5",
        "_cell_guid": "b1076dfc-b9ad-4769-8c92-a6c4dae69d19",
        "execution": {
          "iopub.status.busy": "2024-03-10T09:39:08.927776Z",
          "iopub.execute_input": "2024-03-10T09:39:08.928516Z",
          "iopub.status.idle": "2024-03-10T09:39:09.2013Z",
          "shell.execute_reply.started": "2024-03-10T09:39:08.928482Z",
          "shell.execute_reply": "2024-03-10T09:39:09.200382Z"
        },
        "trusted": true,
        "id": "pOZPQe8GKK-c"
      },
      "execution_count": null,
      "outputs": []
    },
    {
      "cell_type": "code",
      "source": [
        "train = df.groupby('eeg_id')[['spectrogram_id','spectrogram_label_offset_seconds']].agg(\n",
        "    {'spectrogram_id':'first','spectrogram_label_offset_seconds':'min'})\n",
        "train.columns = ['spectrogram_id','min']\n",
        "\n",
        "tmp = df.groupby('eeg_id')[['spectrogram_id','spectrogram_label_offset_seconds']].agg(\n",
        "    {'spectrogram_label_offset_seconds':'max'})\n",
        "train['max'] = tmp\n",
        "\n",
        "tmp = df.groupby('eeg_id')[['patient_id']].agg('first')\n",
        "train['patient_id'] = tmp\n",
        "\n",
        "tmp = df.groupby('eeg_id')[TARGETS].agg('sum')\n",
        "for t in TARGETS:\n",
        "    train[t] = tmp[t].values\n",
        "\n",
        "y_data = train[TARGETS].values\n",
        "y_data = y_data / y_data.sum(axis=1,keepdims=True)\n",
        "train[TARGETS] = y_data\n",
        "\n",
        "tmp = df.groupby('eeg_id')[['expert_consensus']].agg('first')\n",
        "train['target'] = tmp\n",
        "\n",
        "train = train.reset_index()\n",
        "print('Train non-overlapp eeg_id shape:', train.shape )\n",
        "train.head(5)"
      ],
      "metadata": {
        "execution": {
          "iopub.status.busy": "2024-03-10T09:39:09.20313Z",
          "iopub.execute_input": "2024-03-10T09:39:09.203742Z",
          "iopub.status.idle": "2024-03-10T09:39:09.29454Z",
          "shell.execute_reply.started": "2024-03-10T09:39:09.203707Z",
          "shell.execute_reply": "2024-03-10T09:39:09.293703Z"
        },
        "trusted": true,
        "id": "HIoCX3-zKK-c"
      },
      "execution_count": null,
      "outputs": []
    },
    {
      "cell_type": "code",
      "source": [
        "EEG_PATH = PATH + 'train_eegs/'\n",
        "\n",
        "row = train.iloc[1]\n",
        "eeg_id = row['eeg_id']\n",
        "\n",
        "eeg_file_path = os.path.join(EEG_PATH, f'{eeg_id}.parquet')\n",
        "sample_eeg_data = pd.read_parquet(eeg_file_path)\n",
        "sample_eeg_data = sample_eeg_data.iloc[:, :-1]\n",
        "sample_eeg_data = sample_eeg_data.iloc[:, [col for col in range(sample_eeg_data.shape[1]) if col not in [8, 9, 10]]]\n",
        "\n",
        "start_time_point = int((sample_eeg_data.shape[0] - 10_000) // 2)\n",
        "\n",
        "eeg_slice = sample_eeg_data.iloc[start_time_point : start_time_point + 10_000, :]\n",
        "\n",
        "eeg_slice"
      ],
      "metadata": {
        "execution": {
          "iopub.status.busy": "2024-03-10T09:39:09.296304Z",
          "iopub.execute_input": "2024-03-10T09:39:09.296965Z",
          "iopub.status.idle": "2024-03-10T09:39:09.488862Z",
          "shell.execute_reply.started": "2024-03-10T09:39:09.296931Z",
          "shell.execute_reply": "2024-03-10T09:39:09.48801Z"
        },
        "trusted": true,
        "id": "y1uKVgeaKK-c"
      },
      "execution_count": null,
      "outputs": []
    },
    {
      "cell_type": "code",
      "source": [
        "FLAG = True"
      ],
      "metadata": {
        "execution": {
          "iopub.status.busy": "2024-03-10T09:39:10.203266Z",
          "iopub.execute_input": "2024-03-10T09:39:10.204074Z",
          "iopub.status.idle": "2024-03-10T09:39:10.208011Z",
          "shell.execute_reply.started": "2024-03-10T09:39:10.204035Z",
          "shell.execute_reply": "2024-03-10T09:39:10.207181Z"
        },
        "trusted": true,
        "id": "5l8dHNnVKK-d"
      },
      "execution_count": null,
      "outputs": []
    },
    {
      "cell_type": "code",
      "source": [
        "if FLAG:\n",
        "    fs = 200\n",
        "    EEG_PATH = PATH + 'train_eegs/'\n",
        "    all_eeg_data = np.zeros((len(train), 10000, 19))\n",
        "\n",
        "    for row_idx in range(len(train)):\n",
        "        print(row_idx, end = \", \")\n",
        "        row = train.iloc[row_idx]\n",
        "        eeg_id = row['eeg_id']\n",
        "\n",
        "        eeg_file_path = os.path.join(EEG_PATH, f'{eeg_id}.parquet')\n",
        "        eeg_data = pd.read_parquet(eeg_file_path)\n",
        "        eeg_data = eeg_data.iloc[:, :-1]\n",
        "        #eeg_data = eeg_data.iloc[:, [col for col in range(eeg_data.shape[1]) if col not in [8, 9, 10]]]\n",
        "        start_time_point = int((eeg_data.shape[0] - 10_000) // 2)\n",
        "\n",
        "        eeg_slice = eeg_data.iloc[start_time_point : start_time_point + 10_000, :]\n",
        "\n",
        "        all_eeg_data[row_idx, :, :] = eeg_slice\n",
        "\n",
        "    print(\"Shape of all_eeg_data:\", all_eeg_data.shape)\n",
        "else:\n",
        "    print(\"FLAG is set to False. The code below is not executed.\")"
      ],
      "metadata": {
        "execution": {
          "iopub.status.busy": "2024-03-10T09:39:10.442118Z",
          "iopub.execute_input": "2024-03-10T09:39:10.442408Z",
          "iopub.status.idle": "2024-03-10T09:44:53.332719Z",
          "shell.execute_reply.started": "2024-03-10T09:39:10.442383Z",
          "shell.execute_reply": "2024-03-10T09:44:53.331732Z"
        },
        "trusted": true,
        "id": "AbIBGP6DKK-d"
      },
      "execution_count": null,
      "outputs": []
    },
    {
      "cell_type": "markdown",
      "source": [
        "# Feature Extraction"
      ],
      "metadata": {
        "id": "oLF40kG8KK-d"
      }
    },
    {
      "cell_type": "code",
      "source": [
        "import scipy.stats\n",
        "\n",
        "def extract_eeg_features(eeg_data):\n",
        "    \"\"\"\n",
        "    Extract features from EEG data, including LL Spec, LP Spec, RP Spec, RL Spec\n",
        "\n",
        "    Parameters:\n",
        "    - eeg_data: EEG data with shape (number of samples, time points, number of electrodes)\n",
        "\n",
        "    Returns:\n",
        "    - Feature matrix with shape (number of samples, number of features)\n",
        "    \"\"\"\n",
        "    # Initialize the feature matrix\n",
        "    num_samples, num_time_points, num_electrodes = eeg_data.shape\n",
        "    num_features = 8 * num_electrodes  # Mean, standard deviation, minimum, maximum, skewness, kurtosis, energy, entropy for each electrode + 4 global features\n",
        "    features = np.zeros((num_samples, num_features))\n",
        "\n",
        "    # Extract features\n",
        "    for sample_idx in range(num_samples):\n",
        "        for electrode_idx in range(num_electrodes):\n",
        "            electrode_data = eeg_data[sample_idx, :, electrode_idx]\n",
        "            feature_idx = electrode_idx * 8\n",
        "\n",
        "            # Mean\n",
        "            features[sample_idx, feature_idx] = np.mean(electrode_data)\n",
        "            # Standard deviation\n",
        "            features[sample_idx, feature_idx + 1] = np.std(electrode_data)\n",
        "            # Minimum\n",
        "            features[sample_idx, feature_idx + 2] = np.min(electrode_data)\n",
        "            # Maximum\n",
        "            features[sample_idx, feature_idx + 3] = np.max(electrode_data)\n",
        "            # Skewness\n",
        "            features[sample_idx, feature_idx + 4] = scipy.stats.skew(electrode_data)\n",
        "            # Kurtosis\n",
        "            features[sample_idx, feature_idx + 5] = scipy.stats.kurtosis(electrode_data)\n",
        "            # Energy\n",
        "            features[sample_idx, feature_idx + 6] = np.sum(electrode_data**2) / len(electrode_data)\n",
        "            # Entropy\n",
        "            features[sample_idx, feature_idx + 7] = scipy.stats.entropy(np.abs(electrode_data))\n",
        "        # Additional features: LL Spec, LP Spec, RP Spec, RL Spec\n",
        "        ll_spec = (np.abs(np.fft.fft(eeg_data[sample_idx, :, 0] - eeg_data[sample_idx, :, 4]))**2 +\n",
        "                   np.abs(np.fft.fft(eeg_data[sample_idx, :, 4] - eeg_data[sample_idx, :, 5]))**2 +\n",
        "                   np.abs(np.fft.fft(eeg_data[sample_idx, :, 5] - eeg_data[sample_idx, :, 6]))**2 +\n",
        "                   np.abs(np.fft.fft(eeg_data[sample_idx, :, 6] - eeg_data[sample_idx, :, 7]))**2) / 4\n",
        "        features[sample_idx, -4] = np.mean(ll_spec)\n",
        "\n",
        "        lp_spec = (np.abs(np.fft.fft(eeg_data[sample_idx, :, 0] - eeg_data[sample_idx, :, 1]))**2 +\n",
        "                   np.abs(np.fft.fft(eeg_data[sample_idx, :, 1] - eeg_data[sample_idx, :, 2]))**2 +\n",
        "                   np.abs(np.fft.fft(eeg_data[sample_idx, :, 2] - eeg_data[sample_idx, :, 3]))**2 +\n",
        "                   np.abs(np.fft.fft(eeg_data[sample_idx, :, 3] - eeg_data[sample_idx, :, 7]))**2) / 4\n",
        "        features[sample_idx, -3] = np.mean(lp_spec)\n",
        "\n",
        "        rp_spec = (np.abs(np.fft.fft(eeg_data[sample_idx, :, 8] - eeg_data[sample_idx, :, 9]))**2 +\n",
        "                   np.abs(np.fft.fft(eeg_data[sample_idx, :, 9] - eeg_data[sample_idx, :, 10]))**2 +\n",
        "                   np.abs(np.fft.fft(eeg_data[sample_idx, :, 10] - eeg_data[sample_idx, :, 11]))**2 +\n",
        "                   np.abs(np.fft.fft(eeg_data[sample_idx, :, 11] - eeg_data[sample_idx, :, 15]))**2) / 4\n",
        "        features[sample_idx, -2] = np.mean(rp_spec)\n",
        "\n",
        "        rl_spec = (np.abs(np.fft.fft(eeg_data[sample_idx, :, 8] - eeg_data[sample_idx, :, 12]))**2 +\n",
        "                   np.abs(np.fft.fft(eeg_data[sample_idx, :, 12] - eeg_data[sample_idx, :, 13]))**2 +\n",
        "                   np.abs(np.fft.fft(eeg_data[sample_idx, :, 13] - eeg_data[sample_idx, :, 14]))**2 +\n",
        "                   np.abs(np.fft.fft(eeg_data[sample_idx, :, 14] - eeg_data[sample_idx, :, 15]))**2) / 4\n",
        "        features[sample_idx, -1] = np.mean(rl_spec)\n",
        "    return features"
      ],
      "metadata": {
        "execution": {
          "iopub.status.busy": "2024-03-10T09:44:53.3344Z",
          "iopub.execute_input": "2024-03-10T09:44:53.33477Z",
          "iopub.status.idle": "2024-03-10T09:44:53.795545Z",
          "shell.execute_reply.started": "2024-03-10T09:44:53.334738Z",
          "shell.execute_reply": "2024-03-10T09:44:53.794786Z"
        },
        "trusted": true,
        "id": "NZrqRJjkKK-f"
      },
      "execution_count": null,
      "outputs": []
    },
    {
      "cell_type": "code",
      "source": [
        "import numpy as np\n",
        "import scipy\n",
        "\n",
        "from scipy.stats import skew, kurtosis\n",
        "from scipy.stats.mstats import moment\n",
        "from sklearn.preprocessing import StandardScaler\n",
        "\n",
        "if FLAG:\n",
        "    extracted_features = extract_eeg_features(all_eeg_data)\n",
        "    print(\"Shape of extracted features:\", extracted_features.shape)\n",
        "else:\n",
        "    print(\"FLAG is set to False. The code below is not executed.\")"
      ],
      "metadata": {
        "execution": {
          "iopub.status.busy": "2024-03-10T09:44:53.796634Z",
          "iopub.execute_input": "2024-03-10T09:44:53.796975Z",
          "iopub.status.idle": "2024-03-10T09:52:48.054309Z",
          "shell.execute_reply.started": "2024-03-10T09:44:53.796947Z",
          "shell.execute_reply": "2024-03-10T09:52:48.053339Z"
        },
        "trusted": true,
        "id": "ktSk09A8KK-f"
      },
      "execution_count": null,
      "outputs": []
    },
    {
      "cell_type": "code",
      "source": [
        "if FLAG:\n",
        "    mean_values = np.nanmean(extracted_features, axis=0)\n",
        "    nan_indices = np.isnan(extracted_features)\n",
        "    extracted_features[nan_indices] = np.take(mean_values, nan_indices.nonzero()[1])\n",
        "    print(\"Shape of eeg_features after replacing NaN values:\", extracted_features.shape)\n",
        "    save_path = '/kaggle/working/extracted_eeg_features.npy'\n",
        "    np.save(save_path, extracted_features)\n",
        "    print(f\"Extracted EEG features saved at: {save_path}\")\n",
        "else:\n",
        "    extracted_features = np.load('/kaggle/input/8-basic-feaatures-with-eeg/extracted_eeg_features (1).npy')\n",
        "    print(\"Shape of extracted features:\", extracted_features.shape)"
      ],
      "metadata": {
        "execution": {
          "iopub.status.busy": "2024-03-10T09:52:48.056325Z",
          "iopub.execute_input": "2024-03-10T09:52:48.05664Z",
          "iopub.status.idle": "2024-03-10T09:52:48.105001Z",
          "shell.execute_reply.started": "2024-03-10T09:52:48.056614Z",
          "shell.execute_reply": "2024-03-10T09:52:48.104054Z"
        },
        "trusted": true,
        "id": "4GvzK3aSKK-f"
      },
      "execution_count": null,
      "outputs": []
    },
    {
      "cell_type": "code",
      "source": [
        "ef = pd.DataFrame(extracted_features)\n",
        "ef"
      ],
      "metadata": {
        "execution": {
          "iopub.status.busy": "2024-03-10T09:52:48.10621Z",
          "iopub.execute_input": "2024-03-10T09:52:48.106583Z",
          "iopub.status.idle": "2024-03-10T09:52:48.139538Z",
          "shell.execute_reply.started": "2024-03-10T09:52:48.10655Z",
          "shell.execute_reply": "2024-03-10T09:52:48.138692Z"
        },
        "trusted": true,
        "id": "_7PCwy9HKK-f"
      },
      "execution_count": null,
      "outputs": []
    },
    {
      "cell_type": "markdown",
      "source": [
        "# Label"
      ],
      "metadata": {
        "id": "i2OTfYYDKK-g"
      }
    },
    {
      "cell_type": "code",
      "source": [
        "train_copy = train.copy()\n",
        "ycol = [c for c in train_copy.columns if c in ['seizure_vote', 'lpd_vote', 'gpd_vote', 'lrda_vote', 'grda_vote', 'other_vote']]\n",
        "cd = {'Seizure':'seizure_vote', 'GPD':'gpd_vote', 'LRDA':'lrda_vote', 'Other':'other_vote', 'GRDA':'grda_vote', 'LPD':'lpd_vote'}\n",
        "train_copy['target'] = train_copy['target'].map(cd)\n",
        "for i in range(len(train_copy)):\n",
        "    c = train_copy['target'][i]\n",
        "    train_copy[c][i] = train_copy[c][i]+10 #adding weight to expert consensus\n",
        "\n",
        "ysum = train_copy[ycol].sum(axis=1)\n",
        "for c in ycol:\n",
        "    train_copy[c] = (train_copy[c] / ysum).astype(np.float64)"
      ],
      "metadata": {
        "execution": {
          "iopub.status.busy": "2024-03-10T09:52:48.140524Z",
          "iopub.execute_input": "2024-03-10T09:52:48.140818Z",
          "iopub.status.idle": "2024-03-10T09:52:53.271091Z",
          "shell.execute_reply.started": "2024-03-10T09:52:48.140792Z",
          "shell.execute_reply": "2024-03-10T09:52:53.270109Z"
        },
        "trusted": true,
        "id": "kasZMzaAKK-g"
      },
      "execution_count": null,
      "outputs": []
    },
    {
      "cell_type": "code",
      "source": [
        "label = train_copy[ycol]\n",
        "label.shape"
      ],
      "metadata": {
        "execution": {
          "iopub.status.busy": "2024-03-10T09:52:53.272227Z",
          "iopub.execute_input": "2024-03-10T09:52:53.272492Z",
          "iopub.status.idle": "2024-03-10T09:52:53.280005Z",
          "shell.execute_reply.started": "2024-03-10T09:52:53.272469Z",
          "shell.execute_reply": "2024-03-10T09:52:53.279168Z"
        },
        "trusted": true,
        "id": "QyYlPR54KK-g"
      },
      "execution_count": null,
      "outputs": []
    },
    {
      "cell_type": "markdown",
      "source": [
        "# Model"
      ],
      "metadata": {
        "id": "Rpb4IgSsKK-g"
      }
    },
    {
      "cell_type": "code",
      "source": [
        "ef"
      ],
      "metadata": {
        "execution": {
          "iopub.status.busy": "2024-03-10T09:52:53.281382Z",
          "iopub.execute_input": "2024-03-10T09:52:53.281722Z",
          "iopub.status.idle": "2024-03-10T09:52:53.318866Z",
          "shell.execute_reply.started": "2024-03-10T09:52:53.28167Z",
          "shell.execute_reply": "2024-03-10T09:52:53.317988Z"
        },
        "trusted": true,
        "id": "azQvH6gMKK-g"
      },
      "execution_count": null,
      "outputs": []
    },
    {
      "cell_type": "code",
      "source": [
        "# Standardize the extracted features\n",
        "scaler = StandardScaler()\n",
        "standardized_features = scaler.fit_transform(extracted_features)\n",
        "\n",
        "# Convert the standardized features back to a DataFrame if needed\n",
        "standardized_ef = pd.DataFrame(standardized_features)\n",
        "\n",
        "# Display the shape of standardized features\n",
        "print(\"Shape of standardized features:\", standardized_ef.shape)"
      ],
      "metadata": {
        "execution": {
          "iopub.status.busy": "2024-03-10T09:52:53.319854Z",
          "iopub.execute_input": "2024-03-10T09:52:53.320118Z",
          "iopub.status.idle": "2024-03-10T09:52:53.354904Z",
          "shell.execute_reply.started": "2024-03-10T09:52:53.320095Z",
          "shell.execute_reply": "2024-03-10T09:52:53.35396Z"
        },
        "trusted": true,
        "id": "3zqtjN9zKK-g"
      },
      "execution_count": null,
      "outputs": []
    },
    {
      "cell_type": "code",
      "source": [
        "standardized_ef"
      ],
      "metadata": {
        "execution": {
          "iopub.status.busy": "2024-03-10T09:52:53.357756Z",
          "iopub.execute_input": "2024-03-10T09:52:53.358052Z",
          "iopub.status.idle": "2024-03-10T09:52:53.38616Z",
          "shell.execute_reply.started": "2024-03-10T09:52:53.358027Z",
          "shell.execute_reply": "2024-03-10T09:52:53.385299Z"
        },
        "trusted": true,
        "id": "4TAVS2e7KK-g"
      },
      "execution_count": null,
      "outputs": []
    },
    {
      "cell_type": "markdown",
      "source": [
        "# **CatBoost**"
      ],
      "metadata": {
        "id": "lh0bISJoKK-g"
      }
    },
    {
      "cell_type": "code",
      "source": [
        "import numpy as np\n",
        "import seaborn as sns\n",
        "from sklearn.model_selection import train_test_split\n",
        "from sklearn.metrics import accuracy_score, confusion_matrix, classification_report\n",
        "\n",
        "X = standardized_features\n",
        "y_labels = np.argmax(label.values, axis=1)\n",
        "X_train, X_test, y_train, y_test = train_test_split(X, y_labels, test_size=0.2, random_state=42)\n",
        "\n",
        "from catboost import CatBoostClassifier\n",
        "\n",
        "catboost_clf = CatBoostClassifier(iterations=1000,\n",
        "                                  depth=12,\n",
        "                                  learning_rate=0.05,\n",
        "                                  loss_function='MultiClass',\n",
        "                                  verbose=-1,\n",
        "                                  task_type=\"GPU\")\n",
        "\n",
        "catboost_clf.fit(X_train, y_train, eval_set=(X_test, y_test), verbose=100)\n",
        "y_pred_catboost = catboost_clf.predict(X_test)\n",
        "\n",
        "# Metrics\n",
        "accuracy_catboost = accuracy_score(y_test, y_pred_catboost)\n",
        "print(f\"Accuracy (CatBoost): {accuracy_catboost}\")\n",
        "\n",
        "# Convert class labels to strings\n",
        "class_names = [str(label) for label in np.unique(y_labels)]\n",
        "# Confusion Matrix\n",
        "conf_mat_catboost = confusion_matrix(y_test, y_pred_catboost)\n",
        "plt.figure(figsize=(10, 8))\n",
        "sns.heatmap(conf_mat_catboost, annot=True, fmt='d', cmap='Blues', xticklabels=np.unique(y_labels), yticklabels=np.unique(y_labels))\n",
        "plt.xlabel('Predicted')\n",
        "plt.ylabel('Actual')\n",
        "plt.title('Confusion Matrix (CatBoost)')\n",
        "plt.show()\n",
        "\n",
        "# Classification Report\n",
        "print(classification_report(y_test, y_pred_catboost, target_names=class_names))"
      ],
      "metadata": {
        "execution": {
          "iopub.status.busy": "2024-03-10T10:26:21.747795Z",
          "iopub.execute_input": "2024-03-10T10:26:21.74822Z",
          "iopub.status.idle": "2024-03-10T10:29:02.465897Z",
          "shell.execute_reply.started": "2024-03-10T10:26:21.748177Z",
          "shell.execute_reply": "2024-03-10T10:29:02.464983Z"
        },
        "trusted": true,
        "id": "d5qSJTw2KK-g"
      },
      "execution_count": null,
      "outputs": []
    },
    {
      "cell_type": "code",
      "source": [
        "from sklearn.metrics import mean_squared_error, mean_absolute_error, accuracy_score, precision_score, recall_score, f1_score, roc_curve, auc\n",
        "\n",
        "# Predict probabilities\n",
        "y_probs_catboost = catboost_clf.predict_proba(X_test)\n",
        "\n",
        "# Calculate MSE and MAE\n",
        "mse_catboost = mean_squared_error(y_test, y_pred_catboost)\n",
        "mae_catboost = mean_absolute_error(y_test, y_pred_catboost)\n",
        "\n",
        "# Accuracy\n",
        "accuracy_catboost = accuracy_score(y_test, y_pred_catboost)\n",
        "\n",
        "# Precision\n",
        "precision_catboost = precision_score(y_test, y_pred_catboost, average='macro')\n",
        "\n",
        "# Recall\n",
        "recall_catboost = recall_score(y_test, y_pred_catboost, average='macro')\n",
        "\n",
        "# F1-score\n",
        "f1_catboost = f1_score(y_test, y_pred_catboost, average='macro')\n",
        "\n",
        "# Print the results\n",
        "print(\"Metrics for CatBoost:\")\n",
        "print(f\"Mean Squared Error (MSE): {mse_catboost}\")\n",
        "print(f\"Mean Absolute Error (MAE): {mae_catboost}\")\n",
        "print(f\"Accuracy: {accuracy_catboost}\")\n",
        "print(f\"Precision: {precision_catboost}\")\n",
        "print(f\"Recall: {recall_catboost}\")\n",
        "print(f\"F1-score: {f1_catboost}\")"
      ],
      "metadata": {
        "execution": {
          "iopub.status.busy": "2024-03-10T10:31:06.051519Z",
          "iopub.execute_input": "2024-03-10T10:31:06.052412Z",
          "iopub.status.idle": "2024-03-10T10:31:06.36899Z",
          "shell.execute_reply.started": "2024-03-10T10:31:06.052375Z",
          "shell.execute_reply": "2024-03-10T10:31:06.368061Z"
        },
        "trusted": true,
        "id": "8mR1w_FMKK-h"
      },
      "execution_count": null,
      "outputs": []
    },
    {
      "cell_type": "code",
      "source": [
        "# Plot ROC curve for each class\n",
        "fpr_catboost = dict()\n",
        "tpr_catboost = dict()\n",
        "roc_auc_catboost = dict()\n",
        "for i in range(len(np.unique(y_labels))):\n",
        "    fpr_catboost[i], tpr_catboost[i], _ = roc_curve(y_test == i, y_probs_catboost[:, i])\n",
        "    roc_auc_catboost[i] = auc(fpr_catboost[i], tpr_catboost[i])\n",
        "\n",
        "plt.figure(figsize=(10, 8))\n",
        "for i in range(len(np.unique(y_labels))):\n",
        "    plt.plot(fpr_catboost[i], tpr_catboost[i], label=f'Class {i} (AUC = {roc_auc_catboost[i]:.2f})')\n",
        "plt.plot([0, 1], [0, 1], 'k--', lw=2)\n",
        "plt.xlim([0.0, 1.0])\n",
        "plt.ylim([0.0, 1.05])\n",
        "plt.xlabel('False Positive Rate')\n",
        "plt.ylabel('True Positive Rate')\n",
        "plt.title('ROC-AUC Curve for Each Class (CatBoost)')\n",
        "plt.legend(loc=\"lower right\")\n",
        "plt.show()"
      ],
      "metadata": {
        "execution": {
          "iopub.status.busy": "2024-03-10T10:31:06.370451Z",
          "iopub.execute_input": "2024-03-10T10:31:06.370755Z",
          "iopub.status.idle": "2024-03-10T10:31:06.721143Z",
          "shell.execute_reply.started": "2024-03-10T10:31:06.370729Z",
          "shell.execute_reply": "2024-03-10T10:31:06.720133Z"
        },
        "trusted": true,
        "id": "jYLoyYdqKK-h"
      },
      "execution_count": null,
      "outputs": []
    },
    {
      "cell_type": "markdown",
      "source": [
        "# Infer Test and Create Submission CSV"
      ],
      "metadata": {
        "id": "Z1w_MeJMKK-h"
      }
    },
    {
      "cell_type": "code",
      "source": [
        "test = pd.read_csv('/kaggle/input/hms-harmful-brain-activity-classification/test.csv')\n",
        "print('Test shape',test.shape)\n",
        "test.head()"
      ],
      "metadata": {
        "execution": {
          "iopub.status.busy": "2024-03-10T10:31:06.722674Z",
          "iopub.execute_input": "2024-03-10T10:31:06.722965Z",
          "iopub.status.idle": "2024-03-10T10:31:06.734893Z",
          "shell.execute_reply.started": "2024-03-10T10:31:06.72294Z",
          "shell.execute_reply": "2024-03-10T10:31:06.734017Z"
        },
        "trusted": true,
        "id": "M3gP8enZKK-h"
      },
      "execution_count": null,
      "outputs": []
    },
    {
      "cell_type": "code",
      "source": [
        "# FEATURE ENGINEER TEST\n",
        "PATH2 = '/kaggle/input/hms-harmful-brain-activity-classification/test_eegs/'\n",
        "data_test = np.zeros((len(test), extracted_features.shape[1]))\n",
        "test_eeg = np.zeros((len(test), 10000, 19))\n",
        "\n",
        "for k in range(len(test)):\n",
        "    row = test.iloc[k]\n",
        "    s = int(row.eeg_id)\n",
        "    eeg_test = pd.read_parquet(f'{PATH2}{s}.parquet')\n",
        "    eeg_test = eeg_test.iloc[:, :-1]\n",
        "    #eeg_test = eeg_test.iloc[:, [col for col in range(eeg_test.shape[1]) if col not in [8, 9, 10]]]\n",
        "    start_time_point = int((eeg_test.shape[0] - 10_000) // 2)\n",
        "    eeg_test_slice = eeg_test.iloc[start_time_point : start_time_point + 10_000, :]\n",
        "\n",
        "    test_eeg[k, :, :] = eeg_test_slice\n",
        "    features_test = extract_eeg_features(test_eeg)\n",
        "    print(\"Shape of features_test:\", features_test.shape)\n",
        "    data_test = features_test\n",
        "print(\"Shape of data_test:\", data_test.shape)"
      ],
      "metadata": {
        "execution": {
          "iopub.status.busy": "2024-03-10T10:31:06.943509Z",
          "iopub.execute_input": "2024-03-10T10:31:06.944268Z",
          "iopub.status.idle": "2024-03-10T10:31:06.995697Z",
          "shell.execute_reply.started": "2024-03-10T10:31:06.944234Z",
          "shell.execute_reply": "2024-03-10T10:31:06.994843Z"
        },
        "trusted": true,
        "id": "0mI8TJPQKK-h"
      },
      "execution_count": null,
      "outputs": []
    },
    {
      "cell_type": "code",
      "source": [
        "predictions_proba = catboost_clf.predict_proba(data_test)\n",
        "class_names = ['seizure_vote', 'lpd_vote', 'gpd_vote', 'lrda_vote', 'grda_vote', 'other_vote']\n",
        "probabilities_df = pd.DataFrame(predictions_proba, columns=class_names)\n",
        "print(probabilities_df.head(1))"
      ],
      "metadata": {
        "execution": {
          "iopub.status.busy": "2024-03-10T10:31:07.095003Z",
          "iopub.execute_input": "2024-03-10T10:31:07.095299Z",
          "iopub.status.idle": "2024-03-10T10:31:07.105402Z",
          "shell.execute_reply.started": "2024-03-10T10:31:07.095274Z",
          "shell.execute_reply": "2024-03-10T10:31:07.104453Z"
        },
        "trusted": true,
        "id": "tlUQaPACKK-h"
      },
      "execution_count": null,
      "outputs": []
    },
    {
      "cell_type": "code",
      "source": [
        "sub = pd.DataFrame({'eeg_id':test.eeg_id.values})\n",
        "sub[TARGETS] = probabilities_df\n",
        "sub.to_csv('submission.csv',index=False)\n",
        "print('Submissionn shape',sub.shape)\n",
        "sub.head()"
      ],
      "metadata": {
        "execution": {
          "iopub.status.busy": "2024-03-10T10:31:07.297023Z",
          "iopub.execute_input": "2024-03-10T10:31:07.297388Z",
          "iopub.status.idle": "2024-03-10T10:31:07.314533Z",
          "shell.execute_reply.started": "2024-03-10T10:31:07.297359Z",
          "shell.execute_reply": "2024-03-10T10:31:07.313652Z"
        },
        "trusted": true,
        "id": "lQRPvdoXKK-h"
      },
      "execution_count": null,
      "outputs": []
    },
    {
      "cell_type": "code",
      "source": [
        "# SANITY CHECK TO CONFIRM PREDICTIONS SUM TO ONE\n",
        "sub.iloc[:,-6:].sum(axis=1)"
      ],
      "metadata": {
        "execution": {
          "iopub.status.busy": "2024-03-10T10:31:08.490039Z",
          "iopub.execute_input": "2024-03-10T10:31:08.490618Z",
          "iopub.status.idle": "2024-03-10T10:31:08.500913Z",
          "shell.execute_reply.started": "2024-03-10T10:31:08.490588Z",
          "shell.execute_reply": "2024-03-10T10:31:08.499925Z"
        },
        "trusted": true,
        "id": "tx6iH2-7KK-h"
      },
      "execution_count": null,
      "outputs": []
    },
    {
      "cell_type": "code",
      "source": [],
      "metadata": {
        "id": "0USCRhjrKK-i"
      },
      "execution_count": null,
      "outputs": []
    }
  ]
}