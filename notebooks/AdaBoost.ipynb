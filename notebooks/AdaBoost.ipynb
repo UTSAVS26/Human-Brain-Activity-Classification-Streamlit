{
  "metadata": {
    "kernelspec": {
      "language": "python",
      "display_name": "Python 3",
      "name": "python3"
    },
    "language_info": {
      "name": "python",
      "version": "3.10.12",
      "mimetype": "text/x-python",
      "codemirror_mode": {
        "name": "ipython",
        "version": 3
      },
      "pygments_lexer": "ipython3",
      "nbconvert_exporter": "python",
      "file_extension": ".py"
    },
    "kaggle": {
      "accelerator": "nvidiaTeslaT4",
      "dataSources": [
        {
          "sourceId": 59093,
          "databundleVersionId": 7469972,
          "sourceType": "competition"
        },
        {
          "sourceId": 7392733,
          "sourceType": "datasetVersion",
          "datasetId": 4297749
        },
        {
          "sourceId": 7460364,
          "sourceType": "datasetVersion",
          "datasetId": 4342156
        },
        {
          "sourceId": 7470029,
          "sourceType": "datasetVersion",
          "datasetId": 4348549
        },
        {
          "sourceId": 7471171,
          "sourceType": "datasetVersion",
          "datasetId": 4349405
        },
        {
          "sourceId": 7471726,
          "sourceType": "datasetVersion",
          "datasetId": 4349790
        }
      ],
      "dockerImageVersionId": 30636,
      "isInternetEnabled": false,
      "language": "python",
      "sourceType": "notebook",
      "isGpuEnabled": true
    },
    "colab": {
      "name": "Algorithms 44f457",
      "provenance": []
    }
  },
  "nbformat_minor": 0,
  "nbformat": 4,
  "cells": [
    {
      "cell_type": "code",
      "source": [
        "import os,gc\n",
        "os.environ[\"CUDA_VISIBLE_DEVICES\"]=\"0,1\"\n",
        "import pandas as pd, numpy as np\n",
        "import matplotlib.pyplot as plt\n",
        "import warnings\n",
        "\n",
        "warnings.filterwarnings('ignore')"
      ],
      "metadata": {
        "execution": {
          "iopub.status.busy": "2024-03-10T09:44:36.532328Z",
          "iopub.execute_input": "2024-03-10T09:44:36.533186Z",
          "iopub.status.idle": "2024-03-10T09:44:36.868091Z",
          "shell.execute_reply.started": "2024-03-10T09:44:36.533141Z",
          "shell.execute_reply": "2024-03-10T09:44:36.867164Z"
        },
        "trusted": true,
        "id": "p2GeSxSMQ7Hn"
      },
      "execution_count": null,
      "outputs": []
    },
    {
      "cell_type": "code",
      "source": [
        "PATH = '/kaggle/input/hms-harmful-brain-activity-classification/'\n",
        "df = pd.read_csv(PATH + 'train.csv')\n",
        "TARGETS = df.columns[-6:]\n",
        "print('Train shape:', df.shape )\n",
        "print('Targets', list(TARGETS))\n",
        "df.head()"
      ],
      "metadata": {
        "_uuid": "8f2839f25d086af736a60e9eeb907d3b93b6e0e5",
        "_cell_guid": "b1076dfc-b9ad-4769-8c92-a6c4dae69d19",
        "execution": {
          "iopub.status.busy": "2024-03-10T09:44:36.869504Z",
          "iopub.execute_input": "2024-03-10T09:44:36.869873Z",
          "iopub.status.idle": "2024-03-10T09:44:37.128904Z",
          "shell.execute_reply.started": "2024-03-10T09:44:36.869849Z",
          "shell.execute_reply": "2024-03-10T09:44:37.127978Z"
        },
        "trusted": true,
        "id": "P4iVcblLQ7Hn"
      },
      "execution_count": null,
      "outputs": []
    },
    {
      "cell_type": "code",
      "source": [
        "train = df.groupby('eeg_id')[['spectrogram_id','spectrogram_label_offset_seconds']].agg(\n",
        "    {'spectrogram_id':'first','spectrogram_label_offset_seconds':'min'})\n",
        "train.columns = ['spectrogram_id','min']\n",
        "\n",
        "tmp = df.groupby('eeg_id')[['spectrogram_id','spectrogram_label_offset_seconds']].agg(\n",
        "    {'spectrogram_label_offset_seconds':'max'})\n",
        "train['max'] = tmp\n",
        "\n",
        "tmp = df.groupby('eeg_id')[['patient_id']].agg('first')\n",
        "train['patient_id'] = tmp\n",
        "\n",
        "tmp = df.groupby('eeg_id')[TARGETS].agg('sum')\n",
        "for t in TARGETS:\n",
        "    train[t] = tmp[t].values\n",
        "\n",
        "y_data = train[TARGETS].values\n",
        "y_data = y_data / y_data.sum(axis=1,keepdims=True)\n",
        "train[TARGETS] = y_data\n",
        "\n",
        "tmp = df.groupby('eeg_id')[['expert_consensus']].agg('first')\n",
        "train['target'] = tmp\n",
        "\n",
        "train = train.reset_index()\n",
        "print('Train non-overlapp eeg_id shape:', train.shape )\n",
        "train.head(5)"
      ],
      "metadata": {
        "execution": {
          "iopub.status.busy": "2024-03-10T09:44:37.130441Z",
          "iopub.execute_input": "2024-03-10T09:44:37.130745Z",
          "iopub.status.idle": "2024-03-10T09:44:37.223414Z",
          "shell.execute_reply.started": "2024-03-10T09:44:37.130718Z",
          "shell.execute_reply": "2024-03-10T09:44:37.222493Z"
        },
        "trusted": true,
        "id": "RDFPVtOrQ7Ho"
      },
      "execution_count": null,
      "outputs": []
    },
    {
      "cell_type": "code",
      "source": [
        "EEG_PATH = PATH + 'train_eegs/'\n",
        "\n",
        "row = train.iloc[1]\n",
        "eeg_id = row['eeg_id']\n",
        "\n",
        "eeg_file_path = os.path.join(EEG_PATH, f'{eeg_id}.parquet')\n",
        "sample_eeg_data = pd.read_parquet(eeg_file_path)\n",
        "sample_eeg_data = sample_eeg_data.iloc[:, :-1]\n",
        "sample_eeg_data = sample_eeg_data.iloc[:, [col for col in range(sample_eeg_data.shape[1]) if col not in [8, 9, 10]]]\n",
        "\n",
        "start_time_point = int((sample_eeg_data.shape[0] - 10_000) // 2)\n",
        "\n",
        "eeg_slice = sample_eeg_data.iloc[start_time_point : start_time_point + 10_000, :]\n",
        "\n",
        "eeg_slice"
      ],
      "metadata": {
        "execution": {
          "iopub.status.busy": "2024-03-10T09:44:37.240546Z",
          "iopub.execute_input": "2024-03-10T09:44:37.240802Z",
          "iopub.status.idle": "2024-03-10T09:44:37.441672Z",
          "shell.execute_reply.started": "2024-03-10T09:44:37.24078Z",
          "shell.execute_reply": "2024-03-10T09:44:37.440772Z"
        },
        "trusted": true,
        "id": "0Kk9sHTJQ7Ho"
      },
      "execution_count": null,
      "outputs": []
    },
    {
      "cell_type": "code",
      "source": [
        "FLAG = True"
      ],
      "metadata": {
        "execution": {
          "iopub.status.busy": "2024-03-10T09:44:37.442963Z",
          "iopub.execute_input": "2024-03-10T09:44:37.443276Z",
          "iopub.status.idle": "2024-03-10T09:44:37.447182Z",
          "shell.execute_reply.started": "2024-03-10T09:44:37.443239Z",
          "shell.execute_reply": "2024-03-10T09:44:37.446294Z"
        },
        "trusted": true,
        "id": "n3Qmaj4KQ7Ho"
      },
      "execution_count": null,
      "outputs": []
    },
    {
      "cell_type": "code",
      "source": [
        "if FLAG:\n",
        "    fs = 200\n",
        "    EEG_PATH = PATH + 'train_eegs/'\n",
        "    all_eeg_data = np.zeros((len(train), 10000, 19))\n",
        "\n",
        "    for row_idx in range(len(train)):\n",
        "        print(row_idx, end = \", \")\n",
        "        row = train.iloc[row_idx]\n",
        "        eeg_id = row['eeg_id']\n",
        "\n",
        "        eeg_file_path = os.path.join(EEG_PATH, f'{eeg_id}.parquet')\n",
        "        eeg_data = pd.read_parquet(eeg_file_path)\n",
        "        eeg_data = eeg_data.iloc[:, :-1]\n",
        "        #eeg_data = eeg_data.iloc[:, [col for col in range(eeg_data.shape[1]) if col not in [8, 9, 10]]]\n",
        "        start_time_point = int((eeg_data.shape[0] - 10_000) // 2)\n",
        "\n",
        "        eeg_slice = eeg_data.iloc[start_time_point : start_time_point + 10_000, :]\n",
        "\n",
        "        all_eeg_data[row_idx, :, :] = eeg_slice\n",
        "\n",
        "    print(\"Shape of all_eeg_data:\", all_eeg_data.shape)\n",
        "else:\n",
        "    print(\"FLAG is set to False. The code below is not executed.\")"
      ],
      "metadata": {
        "execution": {
          "iopub.status.busy": "2024-03-10T09:44:38.11762Z",
          "iopub.execute_input": "2024-03-10T09:44:38.118288Z",
          "iopub.status.idle": "2024-03-10T09:50:16.163931Z",
          "shell.execute_reply.started": "2024-03-10T09:44:38.118256Z",
          "shell.execute_reply": "2024-03-10T09:50:16.162878Z"
        },
        "trusted": true,
        "id": "dY8MaPDHQ7Ho"
      },
      "execution_count": null,
      "outputs": []
    },
    {
      "cell_type": "markdown",
      "source": [
        "# Feature Extraction"
      ],
      "metadata": {
        "id": "6MrrNX6YQ7Ho"
      }
    },
    {
      "cell_type": "code",
      "source": [
        "import scipy.stats\n",
        "\n",
        "def extract_eeg_features(eeg_data):\n",
        "    \"\"\"\n",
        "    Extract features from EEG data, including LL Spec, LP Spec, RP Spec, RL Spec\n",
        "\n",
        "    Parameters:\n",
        "    - eeg_data: EEG data with shape (number of samples, time points, number of electrodes)\n",
        "\n",
        "    Returns:\n",
        "    - Feature matrix with shape (number of samples, number of features)\n",
        "    \"\"\"\n",
        "    # Initialize the feature matrix\n",
        "    num_samples, num_time_points, num_electrodes = eeg_data.shape\n",
        "    num_features = 8 * num_electrodes  # Mean, standard deviation, minimum, maximum, skewness, kurtosis, energy, entropy for each electrode + 4 global features\n",
        "    features = np.zeros((num_samples, num_features))\n",
        "\n",
        "    # Extract features\n",
        "    for sample_idx in range(num_samples):\n",
        "        for electrode_idx in range(num_electrodes):\n",
        "            electrode_data = eeg_data[sample_idx, :, electrode_idx]\n",
        "            feature_idx = electrode_idx * 8\n",
        "\n",
        "            # Mean\n",
        "            features[sample_idx, feature_idx] = np.mean(electrode_data)\n",
        "            # Standard deviation\n",
        "            features[sample_idx, feature_idx + 1] = np.std(electrode_data)\n",
        "            # Minimum\n",
        "            features[sample_idx, feature_idx + 2] = np.min(electrode_data)\n",
        "            # Maximum\n",
        "            features[sample_idx, feature_idx + 3] = np.max(electrode_data)\n",
        "            # Skewness\n",
        "            features[sample_idx, feature_idx + 4] = scipy.stats.skew(electrode_data)\n",
        "            # Kurtosis\n",
        "            features[sample_idx, feature_idx + 5] = scipy.stats.kurtosis(electrode_data)\n",
        "            # Energy\n",
        "            features[sample_idx, feature_idx + 6] = np.sum(electrode_data**2) / len(electrode_data)\n",
        "            # Entropy\n",
        "            features[sample_idx, feature_idx + 7] = scipy.stats.entropy(np.abs(electrode_data))\n",
        "        # Additional features: LL Spec, LP Spec, RP Spec, RL Spec\n",
        "        ll_spec = (np.abs(np.fft.fft(eeg_data[sample_idx, :, 0] - eeg_data[sample_idx, :, 4]))**2 +\n",
        "                   np.abs(np.fft.fft(eeg_data[sample_idx, :, 4] - eeg_data[sample_idx, :, 5]))**2 +\n",
        "                   np.abs(np.fft.fft(eeg_data[sample_idx, :, 5] - eeg_data[sample_idx, :, 6]))**2 +\n",
        "                   np.abs(np.fft.fft(eeg_data[sample_idx, :, 6] - eeg_data[sample_idx, :, 7]))**2) / 4\n",
        "        features[sample_idx, -4] = np.mean(ll_spec)\n",
        "\n",
        "        lp_spec = (np.abs(np.fft.fft(eeg_data[sample_idx, :, 0] - eeg_data[sample_idx, :, 1]))**2 +\n",
        "                   np.abs(np.fft.fft(eeg_data[sample_idx, :, 1] - eeg_data[sample_idx, :, 2]))**2 +\n",
        "                   np.abs(np.fft.fft(eeg_data[sample_idx, :, 2] - eeg_data[sample_idx, :, 3]))**2 +\n",
        "                   np.abs(np.fft.fft(eeg_data[sample_idx, :, 3] - eeg_data[sample_idx, :, 7]))**2) / 4\n",
        "        features[sample_idx, -3] = np.mean(lp_spec)\n",
        "\n",
        "        rp_spec = (np.abs(np.fft.fft(eeg_data[sample_idx, :, 8] - eeg_data[sample_idx, :, 9]))**2 +\n",
        "                   np.abs(np.fft.fft(eeg_data[sample_idx, :, 9] - eeg_data[sample_idx, :, 10]))**2 +\n",
        "                   np.abs(np.fft.fft(eeg_data[sample_idx, :, 10] - eeg_data[sample_idx, :, 11]))**2 +\n",
        "                   np.abs(np.fft.fft(eeg_data[sample_idx, :, 11] - eeg_data[sample_idx, :, 15]))**2) / 4\n",
        "        features[sample_idx, -2] = np.mean(rp_spec)\n",
        "\n",
        "        rl_spec = (np.abs(np.fft.fft(eeg_data[sample_idx, :, 8] - eeg_data[sample_idx, :, 12]))**2 +\n",
        "                   np.abs(np.fft.fft(eeg_data[sample_idx, :, 12] - eeg_data[sample_idx, :, 13]))**2 +\n",
        "                   np.abs(np.fft.fft(eeg_data[sample_idx, :, 13] - eeg_data[sample_idx, :, 14]))**2 +\n",
        "                   np.abs(np.fft.fft(eeg_data[sample_idx, :, 14] - eeg_data[sample_idx, :, 15]))**2) / 4\n",
        "        features[sample_idx, -1] = np.mean(rl_spec)\n",
        "    return features"
      ],
      "metadata": {
        "execution": {
          "iopub.status.busy": "2024-03-10T09:50:16.16635Z",
          "iopub.execute_input": "2024-03-10T09:50:16.166822Z",
          "iopub.status.idle": "2024-03-10T09:50:16.744967Z",
          "shell.execute_reply.started": "2024-03-10T09:50:16.166782Z",
          "shell.execute_reply": "2024-03-10T09:50:16.743967Z"
        },
        "trusted": true,
        "id": "mRcJO1_UQ7Hp"
      },
      "execution_count": null,
      "outputs": []
    },
    {
      "cell_type": "code",
      "source": [
        "import numpy as np\n",
        "import scipy\n",
        "\n",
        "from scipy.stats import skew, kurtosis\n",
        "from scipy.stats.mstats import moment\n",
        "from sklearn.preprocessing import StandardScaler\n",
        "\n",
        "if FLAG:\n",
        "    extracted_features = extract_eeg_features(all_eeg_data)\n",
        "    print(\"Shape of extracted features:\", extracted_features.shape)\n",
        "else:\n",
        "    print(\"FLAG is set to False. The code below is not executed.\")"
      ],
      "metadata": {
        "execution": {
          "iopub.status.busy": "2024-03-10T09:50:16.746274Z",
          "iopub.execute_input": "2024-03-10T09:50:16.746624Z",
          "iopub.status.idle": "2024-03-10T09:58:46.268633Z",
          "shell.execute_reply.started": "2024-03-10T09:50:16.746589Z",
          "shell.execute_reply": "2024-03-10T09:58:46.267735Z"
        },
        "trusted": true,
        "id": "GCqh0NpbQ7Hq"
      },
      "execution_count": null,
      "outputs": []
    },
    {
      "cell_type": "code",
      "source": [
        "if FLAG:\n",
        "    mean_values = np.nanmean(extracted_features, axis=0)\n",
        "    nan_indices = np.isnan(extracted_features)\n",
        "    extracted_features[nan_indices] = np.take(mean_values, nan_indices.nonzero()[1])\n",
        "    print(\"Shape of eeg_features after replacing NaN values:\", extracted_features.shape)\n",
        "    save_path = '/kaggle/working/extracted_eeg_features.npy'\n",
        "    np.save(save_path, extracted_features)\n",
        "    print(f\"Extracted EEG features saved at: {save_path}\")\n",
        "else:\n",
        "    extracted_features = np.load('/kaggle/input/8-basic-feaatures-with-eeg/extracted_eeg_features (1).npy')\n",
        "    print(\"Shape of extracted features:\", extracted_features.shape)"
      ],
      "metadata": {
        "execution": {
          "iopub.status.busy": "2024-03-10T09:58:46.270748Z",
          "iopub.execute_input": "2024-03-10T09:58:46.271063Z",
          "iopub.status.idle": "2024-03-10T09:58:46.322334Z",
          "shell.execute_reply.started": "2024-03-10T09:58:46.271016Z",
          "shell.execute_reply": "2024-03-10T09:58:46.321423Z"
        },
        "trusted": true,
        "id": "21r2x49hQ7Hq"
      },
      "execution_count": null,
      "outputs": []
    },
    {
      "cell_type": "code",
      "source": [
        "ef = pd.DataFrame(extracted_features)\n",
        "ef"
      ],
      "metadata": {
        "execution": {
          "iopub.status.busy": "2024-03-10T09:58:46.323527Z",
          "iopub.execute_input": "2024-03-10T09:58:46.32391Z",
          "iopub.status.idle": "2024-03-10T09:58:46.35908Z",
          "shell.execute_reply.started": "2024-03-10T09:58:46.323875Z",
          "shell.execute_reply": "2024-03-10T09:58:46.358197Z"
        },
        "trusted": true,
        "id": "1w3OyMFNQ7Hq"
      },
      "execution_count": null,
      "outputs": []
    },
    {
      "cell_type": "markdown",
      "source": [
        "# Label"
      ],
      "metadata": {
        "id": "Mj7e2Q-zQ7Hr"
      }
    },
    {
      "cell_type": "code",
      "source": [
        "train_copy = train.copy()\n",
        "ycol = [c for c in train_copy.columns if c in ['seizure_vote', 'lpd_vote', 'gpd_vote', 'lrda_vote', 'grda_vote', 'other_vote']]\n",
        "cd = {'Seizure':'seizure_vote', 'GPD':'gpd_vote', 'LRDA':'lrda_vote', 'Other':'other_vote', 'GRDA':'grda_vote', 'LPD':'lpd_vote'}\n",
        "train_copy['target'] = train_copy['target'].map(cd)\n",
        "for i in range(len(train_copy)):\n",
        "    c = train_copy['target'][i]\n",
        "    train_copy[c][i] = train_copy[c][i]+10 #adding weight to expert consensus\n",
        "\n",
        "ysum = train_copy[ycol].sum(axis=1)\n",
        "for c in ycol:\n",
        "    train_copy[c] = (train_copy[c] / ysum).astype(np.float64)"
      ],
      "metadata": {
        "execution": {
          "iopub.status.busy": "2024-03-10T09:58:46.360396Z",
          "iopub.execute_input": "2024-03-10T09:58:46.360712Z",
          "iopub.status.idle": "2024-03-10T09:58:51.547922Z",
          "shell.execute_reply.started": "2024-03-10T09:58:46.360686Z",
          "shell.execute_reply": "2024-03-10T09:58:51.546928Z"
        },
        "trusted": true,
        "id": "CuKs7Yo4Q7Hr"
      },
      "execution_count": null,
      "outputs": []
    },
    {
      "cell_type": "code",
      "source": [
        "label = train_copy[ycol]\n",
        "label.shape"
      ],
      "metadata": {
        "execution": {
          "iopub.status.busy": "2024-03-10T09:58:51.549233Z",
          "iopub.execute_input": "2024-03-10T09:58:51.549593Z",
          "iopub.status.idle": "2024-03-10T09:58:51.558265Z",
          "shell.execute_reply.started": "2024-03-10T09:58:51.549561Z",
          "shell.execute_reply": "2024-03-10T09:58:51.557036Z"
        },
        "trusted": true,
        "id": "PeaTC8WVQ7Hr"
      },
      "execution_count": null,
      "outputs": []
    },
    {
      "cell_type": "markdown",
      "source": [
        "# Model"
      ],
      "metadata": {
        "id": "j2VkDHjYQ7Hr"
      }
    },
    {
      "cell_type": "code",
      "source": [
        "ef"
      ],
      "metadata": {
        "execution": {
          "iopub.status.busy": "2024-03-10T09:58:51.559717Z",
          "iopub.execute_input": "2024-03-10T09:58:51.560095Z",
          "iopub.status.idle": "2024-03-10T09:58:51.601623Z",
          "shell.execute_reply.started": "2024-03-10T09:58:51.560062Z",
          "shell.execute_reply": "2024-03-10T09:58:51.600639Z"
        },
        "trusted": true,
        "id": "UEW104nEQ7Hr"
      },
      "execution_count": null,
      "outputs": []
    },
    {
      "cell_type": "code",
      "source": [
        "# Standardize the extracted features\n",
        "scaler = StandardScaler()\n",
        "standardized_features = scaler.fit_transform(extracted_features)\n",
        "\n",
        "# Convert the standardized features back to a DataFrame if needed\n",
        "standardized_ef = pd.DataFrame(standardized_features)\n",
        "\n",
        "# Display the shape of standardized features\n",
        "print(\"Shape of standardized features:\", standardized_ef.shape)"
      ],
      "metadata": {
        "execution": {
          "iopub.status.busy": "2024-03-10T09:58:51.60313Z",
          "iopub.execute_input": "2024-03-10T09:58:51.603449Z",
          "iopub.status.idle": "2024-03-10T09:58:51.640802Z",
          "shell.execute_reply.started": "2024-03-10T09:58:51.603424Z",
          "shell.execute_reply": "2024-03-10T09:58:51.639714Z"
        },
        "trusted": true,
        "id": "3plzIrR8Q7Hr"
      },
      "execution_count": null,
      "outputs": []
    },
    {
      "cell_type": "code",
      "source": [
        "standardized_ef"
      ],
      "metadata": {
        "execution": {
          "iopub.status.busy": "2024-03-10T09:58:51.644772Z",
          "iopub.execute_input": "2024-03-10T09:58:51.645181Z",
          "iopub.status.idle": "2024-03-10T09:58:51.676278Z",
          "shell.execute_reply.started": "2024-03-10T09:58:51.645145Z",
          "shell.execute_reply": "2024-03-10T09:58:51.67531Z"
        },
        "trusted": true,
        "id": "l8vU5-qRQ7Hs"
      },
      "execution_count": null,
      "outputs": []
    },
    {
      "cell_type": "markdown",
      "source": [
        "# **AdaBoost**"
      ],
      "metadata": {
        "id": "098CJCLSQ7Hs"
      }
    },
    {
      "cell_type": "code",
      "source": [
        "import numpy as np\n",
        "from sklearn.model_selection import train_test_split\n",
        "from sklearn.metrics import accuracy_score\n",
        "\n",
        "X = standardized_features\n",
        "y_labels = np.argmax(label.values, axis=1)\n",
        "X_train, X_test, y_train, y_test = train_test_split(X, y_labels, test_size=0.2, random_state=42)\n",
        "\n",
        "from sklearn.ensemble import AdaBoostClassifier\n",
        "from sklearn.metrics import roc_curve, auc, mean_squared_error, mean_absolute_error, precision_score, recall_score, f1_score\n",
        "\n",
        "# Initialize AdaBoostClassifier\n",
        "adaboost_clf = AdaBoostClassifier(n_estimators=1000,\n",
        "                                  learning_rate=0.05,\n",
        "                                  random_state=42)\n",
        "\n",
        "# Train the model\n",
        "adaboost_clf.fit(X_train, y_train)\n",
        "\n",
        "# Predict\n",
        "y_pred_adaboost = adaboost_clf.predict(X_test)\n",
        "\n",
        "# Calculate MSE and MAE\n",
        "mse_adaboost = mean_squared_error(y_test, y_pred_adaboost)\n",
        "mae_adaboost = mean_absolute_error(y_test, y_pred_adaboost)\n",
        "\n",
        "# Accuracy\n",
        "accuracy_adaboost = accuracy_score(y_test, y_pred_adaboost)\n",
        "\n",
        "# Precision\n",
        "precision_adaboost = precision_score(y_test, y_pred_adaboost, average='macro')\n",
        "\n",
        "# Recall\n",
        "recall_adaboost = recall_score(y_test, y_pred_adaboost, average='macro')\n",
        "\n",
        "# F1-score\n",
        "f1_adaboost = f1_score(y_test, y_pred_adaboost, average='macro')\n",
        "\n",
        "# Print the results\n",
        "print(\"Metrics for AdaBoost:\")\n",
        "print(f\"Mean Squared Error (MSE): {mse_adaboost}\")\n",
        "print(f\"Mean Absolute Error (MAE): {mae_adaboost}\")\n",
        "print(f\"Accuracy: {accuracy_adaboost}\")\n",
        "print(f\"Precision: {precision_adaboost}\")\n",
        "print(f\"Recall: {recall_adaboost}\")\n",
        "print(f\"F1-score: {f1_adaboost}\")"
      ],
      "metadata": {
        "execution": {
          "iopub.status.busy": "2024-03-10T10:09:50.050235Z",
          "iopub.execute_input": "2024-03-10T10:09:50.05074Z",
          "iopub.status.idle": "2024-03-10T10:14:36.708492Z",
          "shell.execute_reply.started": "2024-03-10T10:09:50.050702Z",
          "shell.execute_reply": "2024-03-10T10:14:36.707564Z"
        },
        "trusted": true,
        "id": "0jjgrmeaQ7Hs"
      },
      "execution_count": null,
      "outputs": []
    },
    {
      "cell_type": "code",
      "source": [
        "from sklearn.metrics import confusion_matrix, classification_report\n",
        "# Predict probabilities\n",
        "y_probs_adaboost = adaboost_clf.predict_proba(X_test)\n",
        "\n",
        "# Plot ROC curve for each class\n",
        "fpr_adaboost = dict()\n",
        "tpr_adaboost = dict()\n",
        "roc_auc_adaboost = dict()\n",
        "for i in range(len(np.unique(y_labels))):\n",
        "    fpr_adaboost[i], tpr_adaboost[i], _ = roc_curve(y_test == i, y_probs_adaboost[:, i])\n",
        "    roc_auc_adaboost[i] = auc(fpr_adaboost[i], tpr_adaboost[i])\n",
        "\n",
        "plt.figure(figsize=(10, 8))\n",
        "for i in range(len(np.unique(y_labels))):\n",
        "    plt.plot(fpr_adaboost[i], tpr_adaboost[i], label=f'Class {i} (AUC = {roc_auc_adaboost[i]:.2f})')\n",
        "plt.plot([0, 1], [0, 1], 'k--', lw=2)\n",
        "plt.xlim([0.0, 1.0])\n",
        "plt.ylim([0.0, 1.05])\n",
        "plt.xlabel('False Positive Rate')\n",
        "plt.ylabel('True Positive Rate')\n",
        "plt.title('ROC-AUC Curve for Each Class (AdaBoost)')\n",
        "plt.legend(loc=\"lower right\")\n",
        "plt.show()"
      ],
      "metadata": {
        "execution": {
          "iopub.status.busy": "2024-03-10T10:19:07.739207Z",
          "iopub.execute_input": "2024-03-10T10:19:07.739942Z",
          "iopub.status.idle": "2024-03-10T10:19:09.217703Z",
          "shell.execute_reply.started": "2024-03-10T10:19:07.739913Z",
          "shell.execute_reply": "2024-03-10T10:19:09.216725Z"
        },
        "trusted": true,
        "id": "Q_L_HuocQ7Hs"
      },
      "execution_count": null,
      "outputs": []
    },
    {
      "cell_type": "code",
      "source": [
        "import seaborn as sns\n",
        "from sklearn.metrics import classification_report\n",
        "\n",
        "# Convert class labels to strings\n",
        "class_names = [str(label) for label in np.unique(y_labels)]\n",
        "print(f\"Accuracy (AdaBoost): {accuracy_adaboost}\")\n",
        "\n",
        "# Confusion Matrix\n",
        "conf_mat_adaboost = confusion_matrix(y_test, y_pred_adaboost)\n",
        "plt.figure(figsize=(10, 8))\n",
        "sns.heatmap(conf_mat_adaboost, annot=True, fmt='d', cmap='Blues', xticklabels=np.unique(y_labels), yticklabels=np.unique(y_labels))\n",
        "plt.xlabel('Predicted')\n",
        "plt.ylabel('Actual')\n",
        "plt.title('Confusion Matrix (AdaBoost)')\n",
        "plt.show()\n",
        "\n",
        "# Classification Report\n",
        "print(classification_report(y_test, y_pred_adaboost, target_names=class_names))"
      ],
      "metadata": {
        "execution": {
          "iopub.status.busy": "2024-03-10T10:20:38.842193Z",
          "iopub.execute_input": "2024-03-10T10:20:38.842569Z",
          "iopub.status.idle": "2024-03-10T10:20:39.284553Z",
          "shell.execute_reply.started": "2024-03-10T10:20:38.842537Z",
          "shell.execute_reply": "2024-03-10T10:20:39.283551Z"
        },
        "trusted": true,
        "id": "B8TPoV0rQ7Hs"
      },
      "execution_count": null,
      "outputs": []
    },
    {
      "cell_type": "markdown",
      "source": [
        "# Infer Test and Create Submission CSV"
      ],
      "metadata": {
        "id": "AuMJJsvUQ7Hs"
      }
    },
    {
      "cell_type": "code",
      "source": [
        "test = pd.read_csv('/kaggle/input/hms-harmful-brain-activity-classification/test.csv')\n",
        "print('Test shape',test.shape)\n",
        "test.head()"
      ],
      "metadata": {
        "execution": {
          "iopub.status.busy": "2024-03-10T10:20:42.301972Z",
          "iopub.execute_input": "2024-03-10T10:20:42.302873Z",
          "iopub.status.idle": "2024-03-10T10:20:42.316819Z",
          "shell.execute_reply.started": "2024-03-10T10:20:42.30284Z",
          "shell.execute_reply": "2024-03-10T10:20:42.315676Z"
        },
        "trusted": true,
        "id": "QAIWNpA_Q7Ht"
      },
      "execution_count": null,
      "outputs": []
    },
    {
      "cell_type": "code",
      "source": [
        "# FEATURE ENGINEER TEST\n",
        "PATH2 = '/kaggle/input/hms-harmful-brain-activity-classification/test_eegs/'\n",
        "data_test = np.zeros((len(test), extracted_features.shape[1]))\n",
        "test_eeg = np.zeros((len(test), 10000, 19))\n",
        "\n",
        "for k in range(len(test)):\n",
        "    row = test.iloc[k]\n",
        "    s = int(row.eeg_id)\n",
        "    eeg_test = pd.read_parquet(f'{PATH2}{s}.parquet')\n",
        "    eeg_test = eeg_test.iloc[:, :-1]\n",
        "    #eeg_test = eeg_test.iloc[:, [col for col in range(eeg_test.shape[1]) if col not in [8, 9, 10]]]\n",
        "    start_time_point = int((eeg_test.shape[0] - 10_000) // 2)\n",
        "    eeg_test_slice = eeg_test.iloc[start_time_point : start_time_point + 10_000, :]\n",
        "\n",
        "    test_eeg[k, :, :] = eeg_test_slice\n",
        "    features_test = extract_eeg_features(test_eeg)\n",
        "    print(\"Shape of features_test:\", features_test.shape)\n",
        "    data_test = features_test\n",
        "print(\"Shape of data_test:\", data_test.shape)"
      ],
      "metadata": {
        "execution": {
          "iopub.status.busy": "2024-03-10T10:20:43.594107Z",
          "iopub.execute_input": "2024-03-10T10:20:43.594946Z",
          "iopub.status.idle": "2024-03-10T10:20:43.675282Z",
          "shell.execute_reply.started": "2024-03-10T10:20:43.594917Z",
          "shell.execute_reply": "2024-03-10T10:20:43.674357Z"
        },
        "trusted": true,
        "id": "6uYk8Ak3Q7Ht"
      },
      "execution_count": null,
      "outputs": []
    },
    {
      "cell_type": "code",
      "source": [
        "predictions_proba = adaboost_clf.predict_proba(data_test)\n",
        "class_names = ['seizure_vote', 'lpd_vote', 'gpd_vote', 'lrda_vote', 'grda_vote', 'other_vote']\n",
        "probabilities_df = pd.DataFrame(predictions_proba, columns=class_names)\n",
        "print(probabilities_df.head(1))"
      ],
      "metadata": {
        "execution": {
          "iopub.status.busy": "2024-03-10T10:21:14.155218Z",
          "iopub.execute_input": "2024-03-10T10:21:14.155556Z",
          "iopub.status.idle": "2024-03-10T10:21:14.344492Z",
          "shell.execute_reply.started": "2024-03-10T10:21:14.155532Z",
          "shell.execute_reply": "2024-03-10T10:21:14.343583Z"
        },
        "trusted": true,
        "id": "mhDE8_DvQ7Ht"
      },
      "execution_count": null,
      "outputs": []
    },
    {
      "cell_type": "code",
      "source": [
        "sub = pd.DataFrame({'eeg_id':test.eeg_id.values})\n",
        "sub[TARGETS] = probabilities_df\n",
        "sub.to_csv('submission.csv',index=False)\n",
        "print('Submissionn shape',sub.shape)\n",
        "sub.head()"
      ],
      "metadata": {
        "execution": {
          "iopub.status.busy": "2024-03-10T10:21:22.810456Z",
          "iopub.execute_input": "2024-03-10T10:21:22.811317Z",
          "iopub.status.idle": "2024-03-10T10:21:22.832374Z",
          "shell.execute_reply.started": "2024-03-10T10:21:22.811285Z",
          "shell.execute_reply": "2024-03-10T10:21:22.831503Z"
        },
        "trusted": true,
        "id": "BHuQFUSbQ7Ht"
      },
      "execution_count": null,
      "outputs": []
    },
    {
      "cell_type": "code",
      "source": [
        "# SANITY CHECK TO CONFIRM PREDICTIONS SUM TO ONE\n",
        "sub.iloc[:,-6:].sum(axis=1)"
      ],
      "metadata": {
        "execution": {
          "iopub.status.busy": "2024-03-10T10:21:24.944495Z",
          "iopub.execute_input": "2024-03-10T10:21:24.945169Z",
          "iopub.status.idle": "2024-03-10T10:21:24.95519Z",
          "shell.execute_reply.started": "2024-03-10T10:21:24.945135Z",
          "shell.execute_reply": "2024-03-10T10:21:24.954181Z"
        },
        "trusted": true,
        "id": "FvpqeKSeQ7Ht"
      },
      "execution_count": null,
      "outputs": []
    },
    {
      "cell_type": "code",
      "source": [],
      "metadata": {
        "id": "m9iG_ylNQ7Ht"
      },
      "execution_count": null,
      "outputs": []
    }
  ]
}